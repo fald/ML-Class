{
 "cells": [
  {
   "cell_type": "markdown",
   "id": "cbbf283d",
   "metadata": {},
   "source": [
    "# Lab: Linear Regression\n",
    "Basically running it here as an extra file for my own sake, as with the other labs.\n",
    "\n",
    "## Goal:\n",
    "Use linear regression with one variable to predict restaurant franchise profits."
   ]
  },
  {
   "cell_type": "code",
   "execution_count": 2,
   "id": "46990a12",
   "metadata": {},
   "outputs": [],
   "source": [
    "import numpy as np\n",
    "import matplotlib.pyplot as plt\n",
    "from utils import *\n",
    "import copy\n",
    "import math\n",
    "\n",
    "%matplotlib inline"
   ]
  },
  {
   "cell_type": "code",
   "execution_count": 9,
   "id": "b256ef3b",
   "metadata": {},
   "outputs": [
    {
     "name": "stdout",
     "output_type": "stream",
     "text": [
      "Data type (x): <class 'numpy.ndarray'>\n",
      "Data sample:\n",
      "[6.1101 5.5277 8.5186 7.0032 5.8598]\n",
      "\n",
      "Data type (y): <class 'numpy.ndarray'>\n",
      "Target sample:\n",
      "[17.592   9.1302 13.662  11.854   6.8233]\n",
      "\n",
      "m = 97\n"
     ]
    }
   ],
   "source": [
    "# Yay premade data.\n",
    "# Single feature is city population (10,000s)\n",
    "# Target is target profitability ($10,000s)\n",
    "\n",
    "x_train, y_train = load_data()\n",
    "\n",
    "# Checking out the data\n",
    "print(f\"Data type (x): {type(x_train)}\")\n",
    "print(f\"Data sample:\\n{x_train[:5]}\")\n",
    "\n",
    "print(f\"\\nData type (y): {type(y_train)}\")\n",
    "print(f\"Target sample:\\n{y_train[:5]}\")\n",
    "\n",
    "if x_train.shape == y_train.shape: # Only because we know x only has 1 feature\n",
    "    print(f\"\\nm = {len(x_train)}\")\n",
    "else:\n",
    "    print(\"There is a dataset mismatch...\")"
   ]
  },
  {
   "cell_type": "code",
   "execution_count": 12,
   "id": "8570cef6",
   "metadata": {},
   "outputs": [
    {
     "data": {
      "image/png": "[encoded data removed]",
      "text/plain": [
       "<Figure size 432x288 with 1 Axes>"
      ]
     },
     "metadata": {
      "needs_background": "light"
     },
     "output_type": "display_data"
    }
   ],
   "source": [
    "# Visualize it for an intuitive understanding\n",
    "# Only 2 properties, the input and output features, so single scatter is enough\n",
    "plt.scatter(x_train, y_train, marker='x', c='r')\n",
    "plt.ylabel(\"Profits ($10k)\", c='gray')\n",
    "plt.xlabel(\"Population (10k)\", c='gray')\n",
    "plt.show()"
   ]
  },
  {
   "cell_type": "code",
   "execution_count": 24,
   "id": "daef9603",
   "metadata": {},
   "outputs": [],
   "source": [
    "def compute_cost(x, y, w, b):\n",
    "    # Pred = wx+b\n",
    "    # cost = (pred - y) ** 2\n",
    "    # total_cost = sum(costs)\n",
    "    m = len(y)\n",
    "    predictions = np.dot(x, w) + b\n",
    "    costs = (predictions - y) ** 2\n",
    "    total_cost = np.sum(costs) / (2 * m)\n",
    "    \n",
    "    return total_cost"
   ]
  },
  {
   "cell_type": "code",
   "execution_count": 25,
   "id": "fbde8a97",
   "metadata": {},
   "outputs": [
    {
     "name": "stdout",
     "output_type": "stream",
     "text": [
      "75.20338497891959 <class 'numpy.float64'>\n"
     ]
    }
   ],
   "source": [
    "# Test, expect ~75.2\n",
    "w, b = 2, 1\n",
    "cost = compute_cost(x_train, y_train, w, b)\n",
    "print(cost, type(cost))"
   ]
  },
  {
   "cell_type": "code",
   "execution_count": 26,
   "id": "450dd121",
   "metadata": {},
   "outputs": [],
   "source": [
    "def compute_gradient(x, y, w, b):\n",
    "    m = len(y)\n",
    "    predictions = np.dot(x, w) + b\n",
    "    err = predictions - y\n",
    "    dj_dw = np.sum(err * x) / m\n",
    "    dj_db = np.sum(err) / m\n",
    "    \n",
    "    return dj_dw, dj_db"
   ]
  },
  {
   "cell_type": "code",
   "execution_count": 29,
   "id": "bd683e35",
   "metadata": {},
   "outputs": [
    {
     "name": "stdout",
     "output_type": "stream",
     "text": [
      "Gradient: (-65.32884974555671, -5.839135051546393)\n",
      "\n",
      "Gradient: (-47.41610118114433, -4.007175051546392)\n"
     ]
    }
   ],
   "source": [
    "# Test, expect ~-65,33, -5.84\n",
    "w, b = 0, 0\n",
    "dj_dw, dj_db = compute_gradient(x_train, y_train, w, b)\n",
    "print(f\"Gradient: {dj_dw, dj_db}\")\n",
    "\n",
    "# Test on non-zero, expect ~-47.42, -4.01\n",
    "w, b = 0.2, 0.2\n",
    "dj_dw, dj_db = compute_gradient(x_train, y_train, w, b)\n",
    "print(f\"\\nGradient: {dj_dw, dj_db}\")"
   ]
  },
  {
   "cell_type": "code",
   "execution_count": 39,
   "id": "2d9dc235",
   "metadata": {},
   "outputs": [],
   "source": [
    "def gradient_descent(x, y, w, b, cost_fn=compute_cost, \n",
    "                     grad_fn=compute_gradient, alpha=1e-2, num_iters=1000):\n",
    "    m = len(y)\n",
    "    J_hist = []\n",
    "    w_hist = []\n",
    "    \n",
    "    for i in range(num_iters):\n",
    "        dj_dw, dj_db = grad_fn(x, y, w, b)\n",
    "        \n",
    "        w -= alpha * dj_dw\n",
    "        b -= alpha * dj_db\n",
    "        \n",
    "        cost = cost_fn(x, y, w, b)\n",
    "        J_hist.append(cost)\n",
    "        \n",
    "        if (i % 10 == 0) or (num_iters <= 10):\n",
    "            w_hist.append(w)\n",
    "            print(f\"Iter: {i:2d}\\tCost: {J_hist[-1]}\")\n",
    "    \n",
    "    return w, b, J_hist, w_hist"
   ]
  },
  {
   "cell_type": "code",
   "execution_count": 42,
   "id": "dac0a7d5",
   "metadata": {},
   "outputs": [
    {
     "name": "stdout",
     "output_type": "stream",
     "text": [
      "Iter:  0\tCost: 6.737190464870007\n",
      "Iter: 10\tCost: 5.859827889932181\n",
      "Iter: 20\tCost: 5.810817842627869\n",
      "Iter: 30\tCost: 5.76354476854712\n",
      "Iter: 40\tCost: 5.717947107333528\n",
      "Iter: 50\tCost: 5.673965480401506\n",
      "Iter: 60\tCost: 5.631542613611772\n",
      "Iter: 70\tCost: 5.590623262687323\n",
      "Iter: 80\tCost: 5.551154141272754\n",
      "Iter: 90\tCost: 5.513083851543225\n",
      "Iter: 100\tCost: 5.476362817272741\n",
      "Iter: 110\tCost: 5.440943219274565\n",
      "Iter: 120\tCost: 5.406778933129694\n",
      "Iter: 130\tCost: 5.373825469122317\n",
      "Iter: 140\tCost: 5.342039914304029\n",
      "Iter: 150\tCost: 5.311380876611354\n",
      "Iter: 160\tCost: 5.281808430963811\n",
      "Iter: 170\tCost: 5.253284067272322\n",
      "Iter: 180\tCost: 5.225770640290271\n",
      "Iter: 190\tCost: 5.199232321241896\n",
      "Iter: 200\tCost: 5.173634551165021\n",
      "Iter: 210\tCost: 5.148943995907395\n",
      "Iter: 220\tCost: 5.12512850271798\n",
      "Iter: 230\tCost: 5.102157058376736\n",
      "Iter: 240\tCost: 5.079999748808297\n",
      "Iter: 250\tCost: 5.05862772012701\n",
      "Iter: 260\tCost: 5.038013141062576\n",
      "Iter: 270\tCost: 5.018129166717367\n",
      "Iter: 280\tCost: 4.998949903608226\n",
      "Iter: 290\tCost: 4.9804503759472345\n",
      "Iter: 300\tCost: 4.962606493117519\n",
      "Iter: 310\tCost: 4.94539501830176\n",
      "Iter: 320\tCost: 4.928793538222535\n",
      "Iter: 330\tCost: 4.912780433955111\n",
      "Iter: 340\tCost: 4.897334852774656\n",
      "Iter: 350\tCost: 4.88243668100122\n",
      "Iter: 360\tCost: 4.868066517807122\n",
      "Iter: 370\tCost: 4.85420564995264\n",
      "Iter: 380\tCost: 4.840836027417081\n",
      "Iter: 390\tCost: 4.827940239893541\n",
      "Iter: 400\tCost: 4.8155014941166865\n",
      "Iter: 410\tCost: 4.80350359199409\n",
      "Iter: 420\tCost: 4.791930909512612\n",
      "Iter: 430\tCost: 4.780768376392351\n",
      "Iter: 440\tCost: 4.770001456461701\n",
      "Iter: 450\tCost: 4.7596161287279255\n",
      "Iter: 460\tCost: 4.7495988691186195\n",
      "Iter: 470\tCost: 4.739936632870274\n",
      "Iter: 480\tCost: 4.730616837541011\n",
      "Iter: 490\tCost: 4.721627346625359\n",
      "Iter: 500\tCost: 4.712956453749759\n",
      "Iter: 510\tCost: 4.7045928674281745\n",
      "Iter: 520\tCost: 4.696525696358007\n",
      "Iter: 530\tCost: 4.688744435237113\n",
      "Iter: 540\tCost: 4.681238951083514\n",
      "Iter: 550\tCost: 4.6739994700399246\n",
      "Iter: 560\tCost: 4.667016564645957\n",
      "Iter: 570\tCost: 4.660281141561418\n",
      "Iter: 580\tCost: 4.653784429724688\n",
      "Iter: 590\tCost: 4.647517968930801\n",
      "Iter: 600\tCost: 4.6414735988143185\n",
      "Iter: 610\tCost: 4.6356434482226705\n",
      "Iter: 620\tCost: 4.630019924966111\n",
      "Iter: 630\tCost: 4.62459570593095\n",
      "Iter: 640\tCost: 4.619363727543187\n",
      "Iter: 650\tCost: 4.614317176570122\n",
      "Iter: 660\tCost: 4.609449481247963\n",
      "Iter: 670\tCost: 4.60475430272389\n",
      "Iter: 680\tCost: 4.600225526801421\n",
      "Iter: 690\tCost: 4.595857255978325\n",
      "Iter: 700\tCost: 4.591643801766726\n",
      "Iter: 710\tCost: 4.587579677285394\n",
      "Iter: 720\tCost: 4.583659590114562\n",
      "Iter: 730\tCost: 4.579878435403997\n",
      "Iter: 740\tCost: 4.5762312892253085\n",
      "Iter: 750\tCost: 4.572713402159867\n",
      "Iter: 760\tCost: 4.56932019311398\n",
      "Iter: 770\tCost: 4.566047243353257\n",
      "Iter: 780\tCost: 4.562890290748406\n",
      "Iter: 790\tCost: 4.559845224224967\n",
      "Iter: 800\tCost: 4.5569080784097515\n",
      "Iter: 810\tCost: 4.554075028467021\n",
      "Iter: 820\tCost: 4.551342385117678\n",
      "Iter: 830\tCost: 4.548706589834975\n",
      "Iter: 840\tCost: 4.546164210210502\n",
      "Iter: 850\tCost: 4.543711935484407\n",
      "Iter: 860\tCost: 4.541346572234026\n",
      "Iter: 870\tCost: 4.53906504021532\n",
      "Iter: 880\tCost: 4.5368643683516865\n",
      "Iter: 890\tCost: 4.534741690864946\n",
      "Iter: 900\tCost: 4.532694243543437\n",
      "Iter: 910\tCost: 4.530719360142384\n",
      "Iter: 920\tCost: 4.5288144689118335\n",
      "Iter: 930\tCost: 4.52697708924765\n",
      "Iter: 940\tCost: 4.525204828461203\n",
      "Iter: 950\tCost: 4.523495378663533\n",
      "Iter: 960\tCost: 4.521846513759959\n",
      "Iter: 970\tCost: 4.520256086551191\n",
      "Iter: 980\tCost: 4.518722025937183\n",
      "Iter: 990\tCost: 4.517242334220096\n",
      "Iter: 1000\tCost: 4.515815084502823\n",
      "Iter: 1010\tCost: 4.514438418179744\n",
      "Iter: 1020\tCost: 4.5131105425163875\n",
      "Iter: 1030\tCost: 4.51182972831488\n",
      "Iter: 1040\tCost: 4.5105943076621395\n",
      "Iter: 1050\tCost: 4.509402671757868\n",
      "Iter: 1060\tCost: 4.508253268819525\n",
      "Iter: 1070\tCost: 4.507144602061552\n",
      "Iter: 1080\tCost: 4.506075227746219\n",
      "Iter: 1090\tCost: 4.505043753303542\n",
      "Iter: 1100\tCost: 4.50404883551784\n",
      "Iter: 1110\tCost: 4.503089178778568\n",
      "Iter: 1120\tCost: 4.502163533393121\n",
      "Iter: 1130\tCost: 4.501270693959463\n",
      "Iter: 1140\tCost: 4.500409497796411\n",
      "Iter: 1150\tCost: 4.499578823429556\n",
      "Iter: 1160\tCost: 4.498777589130852\n",
      "Iter: 1170\tCost: 4.498004751509956\n",
      "Iter: 1180\tCost: 4.497259304155494\n",
      "Iter: 1190\tCost: 4.496540276324489\n",
      "Iter: 1200\tCost: 4.495846731678219\n",
      "Iter: 1210\tCost: 4.4951777670629065\n",
      "Iter: 1220\tCost: 4.494532511333592\n",
      "Iter: 1230\tCost: 4.493910124219711\n",
      "Iter: 1240\tCost: 4.493309795230867\n",
      "Iter: 1250\tCost: 4.492730742601387\n",
      "Iter: 1260\tCost: 4.492172212272289\n",
      "Iter: 1270\tCost: 4.491633476909316\n",
      "Iter: 1280\tCost: 4.4911138349557875\n",
      "Iter: 1290\tCost: 4.490612609719008\n",
      "Iter: 1300\tCost: 4.490129148489064\n",
      "Iter: 1310\tCost: 4.489662821688839\n",
      "Iter: 1320\tCost: 4.489213022054162\n",
      "Iter: 1330\tCost: 4.48877916384302\n",
      "Iter: 1340\tCost: 4.488360682072769\n",
      "Iter: 1350\tCost: 4.487957031784418\n",
      "Iter: 1360\tCost: 4.487567687332955\n",
      "Iter: 1370\tCost: 4.487192141702837\n",
      "Iter: 1380\tCost: 4.48682990584775\n",
      "Iter: 1390\tCost: 4.486480508053741\n",
      "Iter: 1400\tCost: 4.4861434933249615\n",
      "Iter: 1410\tCost: 4.485818422791137\n",
      "Iter: 1420\tCost: 4.485504873136073\n",
      "Iter: 1430\tCost: 4.485202436046394\n",
      "Iter: 1440\tCost: 4.4849107176798215\n",
      "Iter: 1450\tCost: 4.484629338152313\n",
      "Iter: 1460\tCost: 4.4843579310433554\n",
      "Iter: 1470\tCost: 4.4840961429188075\n",
      "Iter: 1480\tCost: 4.483843632870647\n",
      "Iter: 1490\tCost: 4.483600072073026\n",
      "\n",
      "Final w: 1.166362350335582\tb: -3.6302914394043597\n"
     ]
    }
   ],
   "source": [
    "w, b = 0, 0\n",
    "w, b, _, _ = gradient_descent(x_train, y_train, w, b, num_iters=1500)\n",
    "\n",
    "print(f\"\\nFinal w: {w}\\tb: {b}\")"
   ]
  },
  {
   "cell_type": "code",
   "execution_count": 45,
   "id": "935b90de",
   "metadata": {},
   "outputs": [],
   "source": [
    "m = len(y_train)\n",
    "predictions = np.dot(x_train, w) + b"
   ]
  },
  {
   "cell_type": "code",
   "execution_count": 46,
   "id": "55789ac3",
   "metadata": {},
   "outputs": [
    {
     "data": {
      "text/plain": [
       "Text(0.5, 0, 'Population (10k)')"
      ]
     },
     "execution_count": 46,
     "metadata": {},
     "output_type": "execute_result"
    },
    {
     "data": {
      "image/png": "[encoded data removed]",
      "text/plain": [
       "<Figure size 432x288 with 1 Axes>"
      ]
     },
     "metadata": {
      "needs_background": "light"
     },
     "output_type": "display_data"
    }
   ],
   "source": [
    "plt.plot(x_train, predictions, c='b')\n",
    "plt.scatter(x_train, y_train, marker='x', c='r')\n",
    "\n",
    "plt.title(\"Profits vs. City Population\", c='gray')\n",
    "plt.ylabel(\"Profits ($10k)\", c='gray')\n",
    "plt.xlabel(\"Population (10k)\", c=\"gray\")\n"
   ]
  },
  {
   "cell_type": "code",
   "execution_count": 48,
   "id": "3cd69293",
   "metadata": {},
   "outputs": [
    {
     "name": "stdout",
     "output_type": "stream",
     "text": [
      "\n",
      "0.45197678677017716\n",
      "4.534245012944714\n"
     ]
    }
   ],
   "source": [
    "predict_1 = 3.5 * w + b # City of population 35,000\n",
    "predict_2 = 7.0 * w + b\n",
    "print(f\"\\n{predict_1}\\n{predict_2}\")"
   ]
  },
  {
   "cell_type": "code",
   "execution_count": null,
   "id": "31e67f22",
   "metadata": {},
   "outputs": [],
   "source": []
  }
 ],
 "metadata": {
  "kernelspec": {
   "display_name": "Python 3 (ipykernel)",
   "language": "python",
   "name": "python3"
  },
  "language_info": {
   "codemirror_mode": {
    "name": "ipython",
    "version": 3
   },
   "file_extension": ".py",
   "mimetype": "text/x-python",
   "name": "python",
   "nbconvert_exporter": "python",
   "pygments_lexer": "ipython3",
   "version": "3.9.7"
  }
 },
 "nbformat": 4,
 "nbformat_minor": 5
}
