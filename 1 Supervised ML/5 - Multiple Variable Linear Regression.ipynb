{
 "cells": [
  {
   "cell_type": "code",
   "execution_count": 2,
   "id": "f91dca3d",
   "metadata": {},
   "outputs": [],
   "source": [
    "import numpy as np\n",
    "import matplotlib.pyplot as plt\n",
    "import copy, math\n",
    "plt.style.use('./deeplearning.mplstyle')\n",
    "\n",
    "np.set_printoptions(precision=2)"
   ]
  },
  {
   "cell_type": "markdown",
   "id": "5334538b",
   "metadata": {},
   "source": [
    "Using housing price prediction, as before, but with expanded features.\n",
    "\n",
    "|Size (sqft)|# Bedrooms|# Floors|Age|Price ($1k)|\n",
    "|---|---|---|---|---|\n",
    "|2104|5|1|45|460|\n",
    "|1416|3|2|40|232|\n",
    "|852|2|1|35|178|"
   ]
  },
  {
   "cell_type": "code",
   "execution_count": 3,
   "id": "ac19428f",
   "metadata": {},
   "outputs": [],
   "source": [
    "X_train = np.array([[2104, 5, 1, 45],\n",
    "                   [1416, 3, 2, 40],\n",
    "                   [852, 2, 1, 35]])\n",
    "y_train = np.array([460, 232, 178])"
   ]
  },
  {
   "cell_type": "code",
   "execution_count": 4,
   "id": "259532af",
   "metadata": {},
   "outputs": [],
   "source": [
    "# The (almost) provided starting w, b values that are close to optimal for speed's sake\n",
    "w_0 = np.array([\n",
    "    0.39, 18.75, -53.36, -26.42\n",
    "])\n",
    "b_0 = 785.18\n"
   ]
  },
  {
   "cell_type": "markdown",
   "id": "5697e9ba",
   "metadata": {},
   "source": [
    "## Prediction Function"
   ]
  },
  {
   "cell_type": "code",
   "execution_count": 15,
   "id": "81826f77",
   "metadata": {},
   "outputs": [],
   "source": [
    "def predict(x, w, b):\n",
    "    # Vectorization, woo.\n",
    "    return np.dot(x, w) + b"
   ]
  },
  {
   "cell_type": "code",
   "execution_count": 16,
   "id": "12dac599",
   "metadata": {},
   "outputs": [
    {
     "data": {
      "text/plain": [
       "457.2299999999999"
      ]
     },
     "execution_count": 16,
     "metadata": {},
     "output_type": "execute_result"
    }
   ],
   "source": [
    "predict(X_train[0], w_0, b_0)"
   ]
  },
  {
   "cell_type": "markdown",
   "id": "1c4d10a6",
   "metadata": {},
   "source": [
    "## Cost Function"
   ]
  },
  {
   "cell_type": "code",
   "execution_count": 191,
   "id": "af14c46b",
   "metadata": {},
   "outputs": [],
   "source": [
    "def cost(X, y, w, b):\n",
    "    m = X.shape[0]\n",
    "\n",
    "    X = np.append(X, np.reshape(np.ones(m), (-1, 1)), axis=1)\n",
    "    w = np.append(w, b)\n",
    "    return np.sum((np.dot(X, w) - y) ** 2) / (2 * m)\n",
    "    "
   ]
  },
  {
   "cell_type": "code",
   "execution_count": 192,
   "id": "9d46d55c",
   "metadata": {},
   "outputs": [
    {
     "name": "stdout",
     "output_type": "stream",
     "text": [
      "2.050900000000251\n",
      "1.5578904045996674e-12\n"
     ]
    }
   ],
   "source": [
    "print(cost(X_train, y_train, w_0, b_0))\n",
    "\n",
    "# Just double checking it works with that tiny precision diff\n",
    "b_init = 785.1811367994083\n",
    "w_init = np.array([ 0.39133535, 18.75376741, -53.36032453, -26.42131618])\n",
    "print(cost(X_train, y_train, w_init, b_init)) "
   ]
  },
  {
   "cell_type": "markdown",
   "id": "e8fd6d91",
   "metadata": {},
   "source": [
    "## The Gradient Function"
   ]
  },
  {
   "cell_type": "code",
   "execution_count": 193,
   "id": "6b7e858b",
   "metadata": {},
   "outputs": [],
   "source": [
    "def gradient(X, y, w, b):\n",
    "    m, n = X.shape\n",
    "    \n",
    "    X_1 = np.append(X, np.ones(m).reshape(-1, 1), axis=1)\n",
    "    w_b = np.append(w, b)\n",
    "    \n",
    "    err = np.transpose(np.dot(X_1, w_b) - y)\n",
    "    \n",
    "    dj_db = np.sum(err) / m\n",
    "    dj_dw = np.matmul(err, X) / m\n",
    "    \n",
    "    return dj_db, dj_dw"
   ]
  },
  {
   "cell_type": "code",
   "execution_count": 194,
   "id": "c3c7996f",
   "metadata": {},
   "outputs": [
    {
     "name": "stdout",
     "output_type": "stream",
     "text": [
      "(-1.9066666666667895, array([-3.13e+03, -7.20e+00, -2.52e+00, -7.91e+01]))\n",
      "(-1.6739251122999121e-06, array([-2.73e-03, -6.27e-06, -2.22e-06, -6.92e-05]))\n"
     ]
    }
   ],
   "source": [
    "print(gradient(X_train, y_train, w_0, b_0))\n",
    "print(gradient(X_train, y_train, w_init, b_init))"
   ]
  },
  {
   "cell_type": "markdown",
   "id": "7b5efe72",
   "metadata": {},
   "source": [
    "## Gradient Descent"
   ]
  },
  {
   "cell_type": "code",
   "execution_count": 241,
   "id": "0faa3eb7",
   "metadata": {},
   "outputs": [],
   "source": [
    "def gradient_descent(X, y, w, b, cost_fn=cost, grad_fn=gradient, iters=1000, alpha=0.0000005):\n",
    "    # Woof, alpha needs to be hella tiny.\n",
    "    J_hist = []\n",
    "    for i in range(iters):\n",
    "        db, dw = grad_fn(X, y, w, b)\n",
    "        w -= alpha * dw\n",
    "        b -= alpha * db\n",
    "        \n",
    "        J_hist.append(cost_fn(X, y, w, b))\n",
    "        \n",
    "        if (i % (iters / 10) == 0):\n",
    "            print(f\"Iteration {i:4d}:\\tCost: {J_hist[-1]}\") #\"\\n\\tw: {w}\\n\\tdw: {dw}\\n\\tb: {b}\\tdb: {db}\")\n",
    "        \n",
    "    return w, b, J_hist"
   ]
  },
  {
   "cell_type": "code",
   "execution_count": 242,
   "id": "015bd598",
   "metadata": {},
   "outputs": [
    {
     "name": "stdout",
     "output_type": "stream",
     "text": [
      "Iteration    0:\tCost: 2529.4629522316304\n",
      "Iteration  100:\tCost: 695.9903158352028\n",
      "Iteration  200:\tCost: 694.9206979323058\n",
      "Iteration  300:\tCost: 693.8604297851192\n",
      "Iteration  400:\tCost: 692.8094286135915\n",
      "Iteration  500:\tCost: 691.7676123706057\n",
      "Iteration  600:\tCost: 690.7348997354993\n",
      "Iteration  700:\tCost: 689.7112101076165\n",
      "Iteration  800:\tCost: 688.6964635999458\n",
      "Iteration  900:\tCost: 687.6905810327936\n"
     ]
    }
   ],
   "source": [
    "w, b, J_hist = gradient_descent(X_train, y_train, np.zeros(X_train.shape[1]), 0)"
   ]
  },
  {
   "cell_type": "code",
   "execution_count": 250,
   "id": "dd9e4f02",
   "metadata": {},
   "outputs": [
    {
     "name": "stdout",
     "output_type": "stream",
     "text": [
      "426.185304971892\n",
      "286.1674720078562\n",
      "171.46763087132314\n",
      "[460 232 178]\n"
     ]
    }
   ],
   "source": [
    "for x in X_train:\n",
    "    print(predict(x, w, b))\n",
    "\n",
    "print(y_train)"
   ]
  },
  {
   "cell_type": "markdown",
   "id": "5fad8b6d",
   "metadata": {},
   "source": [
    "## Plotting results"
   ]
  },
  {
   "cell_type": "code",
   "execution_count": 252,
   "id": "037ed249",
   "metadata": {},
   "outputs": [
    {
     "data": {
      "image/png": "[encoded data removed]",
      "text/plain": [
       "<Figure size 864x288 with 2 Axes>"
      ]
     },
     "metadata": {
      "needs_background": "light"
     },
     "output_type": "display_data"
    }
   ],
   "source": [
    "fix, (ax1, ax2) = plt.subplots(1, 2, constrained_layout=True, figsize=(12, 4))\n",
    "ax1.plot(J_hist)\n",
    "ax2.plot(180 + np.arange(len(J_hist[100:])), J_hist[100:])\n",
    "\n",
    "plt.show()"
   ]
  }
 ],
 "metadata": {
  "kernelspec": {
   "display_name": "Python 3 (ipykernel)",
   "language": "python",
   "name": "python3"
  },
  "language_info": {
   "codemirror_mode": {
    "name": "ipython",
    "version": 3
   },
   "file_extension": ".py",
   "mimetype": "text/x-python",
   "name": "python",
   "nbconvert_exporter": "python",
   "pygments_lexer": "ipython3",
   "version": "3.9.7"
  }
 },
 "nbformat": 4,
 "nbformat_minor": 5
}
