{
 "cells": [
  {
   "cell_type": "markdown",
   "id": "659a860a",
   "metadata": {},
   "source": [
    "# NumPy and Vectorization\n",
    "Because For-Loops are for dweebs."
   ]
  },
  {
   "cell_type": "code",
   "execution_count": 1,
   "id": "db621b39",
   "metadata": {},
   "outputs": [],
   "source": [
    "import numpy as np\n",
    "import time"
   ]
  },
  {
   "cell_type": "code",
   "execution_count": 6,
   "id": "2a1c9258",
   "metadata": {},
   "outputs": [
    {
     "name": "stdout",
     "output_type": "stream",
     "text": [
      "[0. 0. 0. 0.] (4,) float64\n",
      "[0.06869065 0.25407613 0.85490792 0.31731156]\n"
     ]
    }
   ],
   "source": [
    "a = np.zeros(4) # a 4-long vector of 0s; can also specify the shape here.\n",
    "print(a, a.shape, a.dtype)\n",
    "b = np.random.random_sample(4) # We can easily get random values between 0, 1\n",
    "print(b)"
   ]
  },
  {
   "cell_type": "code",
   "execution_count": 10,
   "id": "5d9d1c14",
   "metadata": {},
   "outputs": [
    {
     "name": "stdout",
     "output_type": "stream",
     "text": [
      "[0. 1. 2. 3.]\n",
      "[0.69066752 0.14278275 0.93393781 0.57184959]\n"
     ]
    }
   ],
   "source": [
    "# A shape tuple isn't taken by all functions\n",
    "c = np.arange(4.)\n",
    "print(c)\n",
    "d = np.random.rand(4)\n",
    "print(d)"
   ]
  },
  {
   "cell_type": "code",
   "execution_count": 14,
   "id": "27348161",
   "metadata": {},
   "outputs": [
    {
     "name": "stdout",
     "output_type": "stream",
     "text": [
      "[1 5 3 9]\n"
     ]
    }
   ],
   "source": [
    "# Or you can just...use your own values as we have been.\n",
    "e = [1, 5, 3, 9]\n",
    "f = np.array(e)\n",
    "print(f)"
   ]
  },
  {
   "cell_type": "markdown",
   "id": "c7d16075",
   "metadata": {},
   "source": [
    "## Operations"
   ]
  },
  {
   "cell_type": "markdown",
   "id": "6252b838",
   "metadata": {},
   "source": [
    "- Indexing and slicing, as with regular Python arrays."
   ]
  },
  {
   "cell_type": "code",
   "execution_count": 16,
   "id": "1b584b67",
   "metadata": {},
   "outputs": [
    {
     "name": "stdout",
     "output_type": "stream",
     "text": [
      "[-1 -5 -3 -9]\n",
      "18\n",
      "4.5\n",
      "[ 1 25  9 81]\n"
     ]
    }
   ],
   "source": [
    "# Single-operations\n",
    "g = -f\n",
    "print(g)\n",
    "h = np.sum(f)\n",
    "print(h)\n",
    "i = np.mean(f)\n",
    "print(i)\n",
    "j = f ** 2\n",
    "print(j)"
   ]
  },
  {
   "cell_type": "code",
   "execution_count": 18,
   "id": "5e928a0d",
   "metadata": {},
   "outputs": [
    {
     "name": "stdout",
     "output_type": "stream",
     "text": [
      "[0 0 6 8]\n",
      "[2 4 0 0]\n",
      "[ 5 10 15 20]\n",
      "20 20\n"
     ]
    }
   ],
   "source": [
    "# Element-wise operations for 2 vectors (requiring sizes to be the same)\n",
    "a = np.array([1, 2, 3, 4])\n",
    "b = np.array([-1, -2, 3, 4])\n",
    "\n",
    "print(a + b)\n",
    "print(a - b)\n",
    "print(a * 5)\n",
    "print(np.dot(a, b), np.dot(b, a))"
   ]
  },
  {
   "cell_type": "code",
   "execution_count": 33,
   "id": "97782c5b",
   "metadata": {},
   "outputs": [
    {
     "name": "stdout",
     "output_type": "stream",
     "text": [
      "249825.02337924895  2.3794e-04ms\n",
      "249825.02337923684  2.4575e-01ms\n",
      "\n",
      "Difference Factor: Slow is taking  1.033e+03 times as long.\n"
     ]
    }
   ],
   "source": [
    "# Demo of speed increase\n",
    "np.random.seed(1)\n",
    "a = np.random.rand(1_000_000)\n",
    "b = np.random.rand(1_000_000)\n",
    "start = time.time()\n",
    "c = np.dot(a, b)\n",
    "end = time.time()\n",
    "fast = end - start\n",
    "print(c, f\"{fast: 0.4e}ms\")\n",
    "\n",
    "start = time.time()\n",
    "total = 0\n",
    "for i in range(len(a)):\n",
    "    total += a[i] * b[i]\n",
    "end = time.time()\n",
    "slow = end - start\n",
    "print(total, f\"{slow: 0.4e}ms\")\n",
    "\n",
    "# Also note the slightly different outcomes; the loss of accuracy at some point\n",
    "print(f\"\\nDifference Factor: Slow is taking {slow / fast : 4.4} times as long.\")\n",
    "\n",
    "del(a)\n",
    "del(b)"
   ]
  },
  {
   "cell_type": "markdown",
   "id": "41841f7d",
   "metadata": {},
   "source": [
    "## Matrices\n",
    "Where it gets meaty."
   ]
  },
  {
   "cell_type": "code",
   "execution_count": 37,
   "id": "54d1123b",
   "metadata": {},
   "outputs": [
    {
     "name": "stdout",
     "output_type": "stream",
     "text": [
      "[[0. 0. 0. 0. 0.]]\n",
      "[[0.76850178 0.90838834 0.54804153 0.89855918]\n",
      " [0.03513744 0.09212483 0.86121123 0.50516394]]\n"
     ]
    }
   ],
   "source": [
    "np.array([[1],[2],[3]]).shape\n",
    "a = np.zeros((1, 5))\n",
    "print(a)\n",
    "b = np.random.random((2, 4))\n",
    "print(b) # 2 examples with 4 features each. m = 2, n = 4"
   ]
  },
  {
   "cell_type": "code",
   "execution_count": 40,
   "id": "73910843",
   "metadata": {},
   "outputs": [
    {
     "name": "stdout",
     "output_type": "stream",
     "text": [
      "[[0 1]\n",
      " [2 3]\n",
      " [4 5]]\n"
     ]
    }
   ],
   "source": [
    "# You can reshape vectors/arrays into matrices, and can pass in -1 to a size to have it \n",
    "# computed for you\n",
    "# They can be sliced, too.\n",
    "a = np.arange(6).reshape(-1, 2)\n",
    "print(a)\n",
    "print(a[1][1:])\n",
    "print"
   ]
  },
  {
   "cell_type": "code",
   "execution_count": null,
   "id": "b7a688da",
   "metadata": {},
   "outputs": [],
   "source": []
  }
 ],
 "metadata": {
  "kernelspec": {
   "display_name": "Python 3 (ipykernel)",
   "language": "python",
   "name": "python3"
  },
  "language_info": {
   "codemirror_mode": {
    "name": "ipython",
    "version": 3
   },
   "file_extension": ".py",
   "mimetype": "text/x-python",
   "name": "python",
   "nbconvert_exporter": "python",
   "pygments_lexer": "ipython3",
   "version": "3.9.7"
  }
 },
 "nbformat": 4,
 "nbformat_minor": 5
}
