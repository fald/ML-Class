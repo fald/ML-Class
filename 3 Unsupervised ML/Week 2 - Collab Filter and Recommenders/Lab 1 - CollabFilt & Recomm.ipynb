{
 "cells": [
  {
   "cell_type": "markdown",
   "id": "05069474",
   "metadata": {},
   "source": [
    "Implement collaborative filtering to build a recommender for movies."
   ]
  },
  {
   "cell_type": "code",
   "execution_count": 2,
   "id": "ee60400d",
   "metadata": {},
   "outputs": [],
   "source": [
    "# Initial imports:\n",
    "\n",
    "import numpy as np\n",
    "import tensorflow as tf\n",
    "from tensorflow import keras\n",
    "from recsys_utils import *"
   ]
  },
  {
   "cell_type": "markdown",
   "id": "f6ff0886",
   "metadata": {},
   "source": [
    "As in notes, notattion is:\n",
    "\n",
    "$r(i, j) = 1$ if user $j$ rated movie $i$, else $0$\n",
    "\n",
    "$y(i, j) :=$ user $j$'s rating of movie $i$, if $r(i, j) == 1$\n",
    "\n",
    "$w^{(j)}$: parameters for user $j$\n",
    "\n",
    "$b^{(j)}$: parameter for user $j$\n",
    "\n",
    "$x^{(i)}$: feature ratings for movie $i$\n",
    "\n",
    "$n_u$ or num_users\n",
    "\n",
    "$n_m$ or num_movies\n",
    "\n",
    "$n$ or num_features\n",
    "\n",
    "$X$: matrix of vectors $x^{(i)}$\n",
    "\n",
    "$W$: matrix of vectors $w^{(j)}$\n",
    "\n",
    "$b$: vector of bias parameters $b^{(j)}$\n",
    "\n",
    "$R$: matrix of elements $r(i, j)$\n",
    "\n"
   ]
  },
  {
   "cell_type": "code",
   "execution_count": 3,
   "id": "7865940e",
   "metadata": {},
   "outputs": [
    {
     "name": "stdout",
     "output_type": "stream",
     "text": [
      "\n",
      "Y: (4778, 443)\n",
      "R: (4778, 443)\n",
      "X: (4778, 10)\n",
      "W: (443, 10)\n",
      "b: (1, 443)\n",
      "num_movies: 4778\n",
      "num_features: 10\n",
      "num_users: 443\n",
      "\n"
     ]
    }
   ],
   "source": [
    "# Load data:\n",
    "X, W, b, num_movies, num_features, num_users = load_precalc_params_small()\n",
    "Y, R = load_ratings_small()\n",
    "\n",
    "# Brief overview\n",
    "print(f\"\"\"\n",
    "Y: {Y.shape}\n",
    "R: {R.shape}\n",
    "X: {X.shape}\n",
    "W: {W.shape}\n",
    "b: {b.shape}\n",
    "num_movies: {num_movies}\n",
    "num_features: {num_features}\n",
    "num_users: {num_users}\n",
    "\"\"\")"
   ]
  },
  {
   "cell_type": "code",
   "execution_count": 4,
   "id": "9d2c1c9d",
   "metadata": {},
   "outputs": [
    {
     "name": "stdout",
     "output_type": "stream",
     "text": [
      "Average rating for movie 1: 3.400 / 5\n"
     ]
    }
   ],
   "source": [
    "# From these base data, get average rating:\n",
    "tsmean = np.mean(Y[0, R[0, :].astype(bool)])\n",
    "print(f\"Average rating for movie 1: {tsmean:0.3f} / 5\")"
   ]
  },
  {
   "cell_type": "markdown",
   "id": "ea2317a7",
   "metadata": {},
   "source": [
    "See notes for the cofi algorithm, it's a doozy.\n",
    "\n",
    "Do note that the summation over $(i, j): r(i, j) = 1$ can be expressed as summation over the elements times $r(i, j)$, which filters out the 0-values anyway.\n",
    "\n",
    "Initially, we start with a for-loop:"
   ]
  },
  {
   "cell_type": "code",
   "execution_count": 5,
   "id": "a61cfa09",
   "metadata": {},
   "outputs": [],
   "source": [
    "def cofi_cost_func_loop(X, W, b, Y, R, lambda_):\n",
    "    \"\"\"\n",
    "    Returns the cost for the content-based filtering.\n",
    "    Args:\n",
    "        X (ndarray (num_movies, num_features)): matrix of item features\n",
    "        W (ndarray (num_users, num_features)): matrix of user parameters\n",
    "        b (ndarray (1, num_users): vector of user parameters\n",
    "        Y (ndarray (num_movies, num_users)): matrix of user ratings\n",
    "        R (ndarray (num_movies, num_users)): matrix where R(i, j) = 1 if user j has rated movie i\n",
    "        lambda_ (float): regularization parameter\n",
    "        \n",
    "    Returns:\n",
    "        J (float): Cost\n",
    "    \"\"\"\n",
    "    \n",
    "    nm, nu = Y.shape\n",
    "    J = 0\n",
    "    \n",
    "    for j in range(nu):\n",
    "        w = W[j, :]\n",
    "        bj = b[0, j]\n",
    "        \n",
    "        for i in range(nm):\n",
    "            x = X[i, :]\n",
    "            r = R[i, j]\n",
    "            y = Y[i, j]\n",
    "            \n",
    "            J += np.multiply(r, (np.dot(w, x) + bj - y) ** 2)\n",
    "    \n",
    "    J += lambda_ * (np.sum(np.power(W, 2)) + np.sum(np.power(X, 2)))\n",
    "    J /= 2\n",
    "    \n",
    "    return J"
   ]
  },
  {
   "cell_type": "code",
   "execution_count": 7,
   "id": "074f9953",
   "metadata": {},
   "outputs": [
    {
     "name": "stdout",
     "output_type": "stream",
     "text": [
      "13.670725805579915\n",
      "28.09383799145902\n"
     ]
    }
   ],
   "source": [
    "# Test\n",
    "nu_r = 4\n",
    "nm_r = 5\n",
    "n_r = 3\n",
    "X_r = X[:nm_r, :n_r]\n",
    "W_r = W[:nu_r, :n_r]\n",
    "b_r = b[0, :nu_r].reshape(1, -1)\n",
    "Y_r = Y[:nm_r, :nu_r]\n",
    "R_r = R[:nm_r, :nu_r]\n",
    "\n",
    "# Without reg\n",
    "J_r = cofi_cost_func_loop(X_r, W_r, b_r, Y_r, R_r, 0)\n",
    "print(J_r)\n",
    "# Expect 13.67\n",
    "\n",
    "# With reg\n",
    "J_r = cofi_cost_func_loop(X_r, W_r, b_r, Y_r, R_r, 1.5)\n",
    "print(J_r)\n",
    "# Expect 28.09"
   ]
  },
  {
   "cell_type": "markdown",
   "id": "81b74a28",
   "metadata": {},
   "source": [
    "Obviously, fuck loops. Try for vectorized!"
   ]
  },
  {
   "cell_type": "code",
   "execution_count": 16,
   "id": "8512398a",
   "metadata": {},
   "outputs": [],
   "source": [
    "def cofi_cost_func(X, W, b, Y, R, lambda_):\n",
    "    \"\"\"\n",
    "    Returns the cost for the content-based filtering.\n",
    "    Args:\n",
    "        X (ndarray (num_movies, num_features)): matrix of item features\n",
    "        W (ndarray (num_users, num_features)): matrix of user parameters\n",
    "        b (ndarray (1, num_users): vector of user parameters\n",
    "        Y (ndarray (num_movies, num_users)): matrix of user ratings\n",
    "        R (ndarray (num_movies, num_users)): matrix where R(i, j) = 1 if user j has rated movie i\n",
    "        lambda_ (float): regularization parameter\n",
    "        \n",
    "    Returns:\n",
    "        J (float): Cost\n",
    "    \"\"\"\n",
    "    \n",
    "    # Non-reg\n",
    "    j = np.sum(np.power((np.matmul(X, np.transpose(W)) + b - Y) * R, 2))\n",
    "    \n",
    "    # Reg\n",
    "    J = 0.5 * (j + lambda_ * (np.sum(np.power(X, 2)) + np.sum(np.power(W, 2))))\n",
    "    \n",
    "    return J\n",
    "    "
   ]
  },
  {
   "cell_type": "code",
   "execution_count": 18,
   "id": "051be8ab",
   "metadata": {},
   "outputs": [
    {
     "name": "stdout",
     "output_type": "stream",
     "text": [
      "13.670725805579915\n",
      "28.09383799145902\n"
     ]
    }
   ],
   "source": [
    "print(cofi_cost_func(X_r, W_r, b_r, Y_r, R_r, 0))\n",
    "print(cofi_cost_func(X_r, W_r, b_r, Y_r, R_r, 1.5))"
   ]
  },
  {
   "cell_type": "code",
   "execution_count": null,
   "id": "16f6b15a",
   "metadata": {},
   "outputs": [],
   "source": []
  }
 ],
 "metadata": {
  "kernelspec": {
   "display_name": "Python 3 (ipykernel)",
   "language": "python",
   "name": "python3"
  },
  "language_info": {
   "codemirror_mode": {
    "name": "ipython",
    "version": 3
   },
   "file_extension": ".py",
   "mimetype": "text/x-python",
   "name": "python",
   "nbconvert_exporter": "python",
   "pygments_lexer": "ipython3",
   "version": "3.9.7"
  }
 },
 "nbformat": 4,
 "nbformat_minor": 5
}
