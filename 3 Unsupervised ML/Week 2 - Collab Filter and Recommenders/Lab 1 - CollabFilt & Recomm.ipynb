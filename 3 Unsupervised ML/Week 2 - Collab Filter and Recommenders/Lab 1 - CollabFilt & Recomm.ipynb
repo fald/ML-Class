{
 "cells": [
  {
   "cell_type": "markdown",
   "id": "c214cec1",
   "metadata": {},
   "source": [
    "Implement collaborative filtering to build a recommender for movies."
   ]
  },
  {
   "cell_type": "code",
   "execution_count": null,
   "id": "f8127d5e",
   "metadata": {},
   "outputs": [],
   "source": []
  }
 ],
 "metadata": {
  "kernelspec": {
   "display_name": "Python 3 (ipykernel)",
   "language": "python",
   "name": "python3"
  },
  "language_info": {
   "codemirror_mode": {
    "name": "ipython",
    "version": 3
   },
   "file_extension": ".py",
   "mimetype": "text/x-python",
   "name": "python",
   "nbconvert_exporter": "python",
   "pygments_lexer": "ipython3",
   "version": "3.9.7"
  }
 },
 "nbformat": 4,
 "nbformat_minor": 5
}
