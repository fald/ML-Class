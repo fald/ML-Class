{
 "cells": [
  {
   "cell_type": "markdown",
   "id": "d8ce845a",
   "metadata": {},
   "source": [
    "First \"lab\" of Andrew Ng's updated Supervised Learning course on Coursera.\n",
    "Just following along by myself, because seeing someone else's notebook is whatever."
   ]
  },
  {
   "cell_type": "code",
   "execution_count": 1,
   "id": "6b569ed0",
   "metadata": {},
   "outputs": [],
   "source": [
    "import numpy as np\n",
    "import matplotlib.pyplot as plt"
   ]
  },
  {
   "cell_type": "markdown",
   "id": "f60a259d",
   "metadata": {},
   "source": [
    "This is using a trivial example with 2 data points.\n",
    "I feel I know enough matplot and numpy that I don't need to bother, but let's find out."
   ]
  },
  {
   "cell_type": "code",
   "execution_count": 2,
   "id": "7b356d53",
   "metadata": {},
   "outputs": [],
   "source": [
    "x_train = np.array([1.0, 2.0])\n",
    "y_train = np.array([300.0, 500.0])"
   ]
  },
  {
   "cell_type": "markdown",
   "id": "7190a414",
   "metadata": {},
   "source": [
    "Numpy arrays have a `shape` parameter - the first value in this case is the number of values, or $m$\n",
    "The second value would be the number of features per example, but we're only using the one."
   ]
  },
  {
   "cell_type": "code",
   "execution_count": 5,
   "id": "9fa6cb0e",
   "metadata": {},
   "outputs": [],
   "source": [
    "m = x_train.shape[0]"
   ]
  },
  {
   "cell_type": "markdown",
   "id": "773839a6",
   "metadata": {},
   "source": [
    "To access $x^{(i)}$ for some $i$, simply index it.\n",
    "That definitely needed it's own cell."
   ]
  },
  {
   "cell_type": "code",
   "execution_count": 7,
   "id": "9d3c3db5",
   "metadata": {},
   "outputs": [],
   "source": [
    "i = 0\n",
    "x_i = x_train[0]\n",
    "y_i = y_train[0]"
   ]
  },
  {
   "cell_type": "markdown",
   "id": "745fe680",
   "metadata": {},
   "source": [
    "### Plotting the Data\n",
    "\n",
    "`matplotlib` has a bunch of functionality for this.\n",
    "Easiest is using `scatter()`, which can take arguments to change the markers visually.\n",
    "\n",
    "There are many other functions to change or add labels, displayed range, and the title."
   ]
  },
  {
   "cell_type": "code",
   "execution_count": 8,
   "id": "17e62f68",
   "metadata": {},
   "outputs": [
    {
     "data": {
      "image/png": "[encoded data removed]",
      "text/plain": [
       "<Figure size 432x288 with 1 Axes>"
      ]
     },
     "metadata": {
      "needs_background": "light"
     },
     "output_type": "display_data"
    }
   ],
   "source": [
    "plt.scatter(x_train, y_train, marker='x', c='r')\n",
    "plt.title(\"Housing Prices\")\n",
    "plt.ylabel(\"Price ($1000)\")\n",
    "plt.xlabel(\"Size (1000 sqft)\")\n",
    "\n",
    "plt.show()"
   ]
  },
  {
   "cell_type": "markdown",
   "id": "e51b5318",
   "metadata": {},
   "source": [
    "The idea of the model is to determine $w$ and $b$ for us, but for now, check out various combinations, see what fits.\n",
    "Compute $f_{w, b}(x^{(i)})$ using some of our own guesses.\n",
    "\n",
    "Given some $w, b$: \n",
    "\n",
    "For $x^{(0)}$: `f_wb = w * x[0] + b` \n",
    "\n",
    "For $x^{(1)}$: `f_wb = w * x[1] + b` \n",
    "\n",
    "\n",
    "As the dataset grows, we need a better way to do this, which is where vectors come in...though I guess we're learning for loops, so...that instead."
   ]
  },
  {
   "cell_type": "code",
   "execution_count": 9,
   "id": "06d989fc",
   "metadata": {},
   "outputs": [],
   "source": [
    "def compute_model_output(x, w=100, b=100):\n",
    "    \"\"\"\n",
    "    Computes prediction of a linear model.\n",
    "    Args:\n",
    "      x (ndarray (m,)): Data with m examples.\n",
    "      w, b (scalar)   : Model parameters\n",
    "    Returns:\n",
    "      y (ndarray (m,)): Target values\n",
    "    \"\"\"\n",
    "    \n",
    "    m = x.shape[0]\n",
    "    f_wb = np.zeros(m)\n",
    "    \n",
    "    for i in range(m):\n",
    "        f_wb[i] = w * x[i] + b\n",
    "        \n",
    "    return f_wb"
   ]
  },
  {
   "cell_type": "code",
   "execution_count": 17,
   "id": "c9b13868",
   "metadata": {},
   "outputs": [
    {
     "name": "stdout",
     "output_type": "stream",
     "text": [
      "[1. 2.] [300. 500.]\n",
      "[300. 500.]\n"
     ]
    },
    {
     "data": {
      "image/png": "[encoded data removed]",
      "text/plain": [
       "<Figure size 432x288 with 1 Axes>"
      ]
     },
     "metadata": {
      "needs_background": "light"
     },
     "output_type": "display_data"
    }
   ],
   "source": [
    "# Call it and plot result\n",
    "f_wb = compute_model_output(x_train, 200, 100)\n",
    "\n",
    "plt.plot(x_train, f_wb, c='b', label=\"Prediction\")\n",
    "plt.scatter(x_train, y_train, marker='x', c='r', label=\"Truth\")\n",
    "\n",
    "plt.title(\"Housing Prices\")\n",
    "plt.ylabel(\"Price ($1000)\")\n",
    "plt.xlabel(\"Size (1000 sqft)\")\n",
    "\n",
    "plt.legend()\n",
    "plt.show()"
   ]
  },
  {
   "cell_type": "markdown",
   "id": "50a4d7f0",
   "metadata": {},
   "source": [
    "Not even close with $w = b = 100$\n",
    "We start at 300, for one, but the slope is also a little steeper.\n",
    "Anyway, with 2 points, a perfect line is trivial to find.\n",
    "I might be straight-up retarded (faux-pas, just stupid? Seems like a carousel of euphemisms, though. This isn't the place for philosophizing over what a large piece of shit I am though) though because it took me 3 tries to do??\n",
    "\n",
    "Aaanyway, now that we have a model, we can use it to predict a new price for a different house.\n",
    "To test, we'll predict the price of a house with 1,200 sqft of space:"
   ]
  },
  {
   "cell_type": "code",
   "execution_count": 2,
   "id": "08434309",
   "metadata": {},
   "outputs": [
    {
     "data": {
      "text/plain": [
       "340.0"
      ]
     },
     "execution_count": 2,
     "metadata": {},
     "output_type": "execute_result"
    }
   ],
   "source": [
    "w = 200\n",
    "b = 100\n",
    "x_i = 1.2\n",
    "cost = w * x_i + b\n",
    "cost"
   ]
  }
 ],
 "metadata": {
  "kernelspec": {
   "display_name": "Python 3 (ipykernel)",
   "language": "python",
   "name": "python3"
  },
  "language_info": {
   "codemirror_mode": {
    "name": "ipython",
    "version": 3
   },
   "file_extension": ".py",
   "mimetype": "text/x-python",
   "name": "python",
   "nbconvert_exporter": "python",
   "pygments_lexer": "ipython3",
   "version": "3.9.7"
  }
 },
 "nbformat": 4,
 "nbformat_minor": 5
}
