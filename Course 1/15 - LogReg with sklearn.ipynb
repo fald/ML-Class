{
 "cells": [
  {
   "cell_type": "markdown",
   "id": "b2360332",
   "metadata": {},
   "source": [
    "# Logistic Regression with Scikit-Learn\n",
    "Ah, industry tools."
   ]
  },
  {
   "cell_type": "code",
   "execution_count": 1,
   "id": "3ccd2d4f",
   "metadata": {},
   "outputs": [],
   "source": [
    "import numpy as np\n",
    "from sklearn.linear_model import LogisticRegression"
   ]
  },
  {
   "cell_type": "code",
   "execution_count": 2,
   "id": "2d9603b2",
   "metadata": {},
   "outputs": [],
   "source": [
    "# Simple dataset:\n",
    "X = np.array([\n",
    "    [0.5, 1.5], [1, 1], [1.5, 0.5],\n",
    "    [3, 0.5], [2, 2], [1, 2.5]\n",
    "])\n",
    "y = np.array([0, 0, 0, 1, 1, 1])"
   ]
  },
  {
   "cell_type": "code",
   "execution_count": 3,
   "id": "b0a14cd7",
   "metadata": {},
   "outputs": [
    {
     "data": {
      "text/plain": [
       "LogisticRegression()"
      ]
     },
     "execution_count": 3,
     "metadata": {},
     "output_type": "execute_result"
    }
   ],
   "source": [
    "# Do the whole model fitting thing so, so simply:\n",
    "lr_model = LogisticRegression()\n",
    "lr_model.fit(X, y)"
   ]
  },
  {
   "cell_type": "code",
   "execution_count": 5,
   "id": "95842db8",
   "metadata": {},
   "outputs": [
    {
     "name": "stdout",
     "output_type": "stream",
     "text": [
      "Predictions on training set: [0 0 0 1 1 1]\n"
     ]
    }
   ],
   "source": [
    "# ...That was easy. Now...predict?\n",
    "y_pred = lr_model.predict(X)\n",
    "print(\"Predictions on training set:\", y_pred)"
   ]
  },
  {
   "cell_type": "code",
   "execution_count": 6,
   "id": "8e8841a7",
   "metadata": {},
   "outputs": [
    {
     "name": "stdout",
     "output_type": "stream",
     "text": [
      "Accuracy on set: 1.0\n"
     ]
    }
   ],
   "source": [
    "# Uh, and now calculate accuracy:\n",
    "print(\"Accuracy on set:\", lr_model.score(X, y))"
   ]
  },
  {
   "cell_type": "code",
   "execution_count": null,
   "id": "59475bde",
   "metadata": {},
   "outputs": [],
   "source": []
  }
 ],
 "metadata": {
  "kernelspec": {
   "display_name": "Python 3 (ipykernel)",
   "language": "python",
   "name": "python3"
  },
  "language_info": {
   "codemirror_mode": {
    "name": "ipython",
    "version": 3
   },
   "file_extension": ".py",
   "mimetype": "text/x-python",
   "name": "python",
   "nbconvert_exporter": "python",
   "pygments_lexer": "ipython3",
   "version": "3.9.7"
  }
 },
 "nbformat": 4,
 "nbformat_minor": 5
}
