{
 "cells": [
  {
   "cell_type": "markdown",
   "id": "c2cb11cb",
   "metadata": {},
   "source": [
    "# Logistic Regression\n",
    "\n",
    "Implement logreg and apply it to different datasets."
   ]
  },
  {
   "cell_type": "code",
   "execution_count": 1,
   "id": "f3b943ab",
   "metadata": {},
   "outputs": [],
   "source": [
    "import numpy as np\n",
    "import matplotlib.pyplot as plt\n",
    "from utils import *\n",
    "import copy, math\n",
    "\n",
    "%matplotlib inline"
   ]
  },
  {
   "cell_type": "markdown",
   "id": "310c7f04",
   "metadata": {},
   "source": [
    "## Part 1 - Predict University Admittance\n",
    "\n",
    "### Problem statement, shortened\n",
    "You want to determine each applicants chane of admission based on their results on two exams.\n",
    "- You have historical data from previous applicants to use as a training set for logistic regression.\n",
    "- Each training example has the 2 scores and the admission decision.\n",
    "- Build a classification model to estimate probability of admission based on their two scores.\n",
    "\n",
    "### Load and visualize the data\n",
    "Helper functions to load in data - 1 means the student was admitted, 0 means not."
   ]
  },
  {
   "cell_type": "code",
   "execution_count": 7,
   "id": "4f55a301",
   "metadata": {},
   "outputs": [
    {
     "name": "stdout",
     "output_type": "stream",
     "text": [
      "First 5 elements:\n",
      "[[34.62365962 78.02469282]\n",
      " [30.28671077 43.89499752]\n",
      " [35.84740877 72.90219803]\n",
      " [60.18259939 86.3085521 ]\n",
      " [79.03273605 75.34437644]]\n",
      "First 5 results:\n",
      "[0. 0. 0. 1. 1.]\n",
      "\n",
      "Data dimentions: (100, 2)\n"
     ]
    }
   ],
   "source": [
    "def load_data(filename):\n",
    "    data = np.loadtxt(filename, delimiter=',')\n",
    "    X = data[:,:2]\n",
    "    y = data[:,2]\n",
    "    return X, y\n",
    "\n",
    "X_train, y_train = load_data(\"data/ex2data1.txt\")\n",
    "print(f\"First 5 elements:\\n{X_train[:5]}\")\n",
    "print(f\"First 5 results:\\n{y_train[:5]}\")\n",
    "print(f\"\\nData dimentions: {X_train.shape}\")"
   ]
  },
  {
   "cell_type": "code",
   "execution_count": 9,
   "id": "4986c21c",
   "metadata": {},
   "outputs": [
    {
     "data": {
      "image/png": "[encoded data removed]",
      "text/plain": [
       "<Figure size 432x288 with 1 Axes>"
      ]
     },
     "metadata": {
      "needs_background": "light"
     },
     "output_type": "display_data"
    }
   ],
   "source": [
    "def plot_data(X, y, pos_label=\"y=1\", neg_label=\"y=0\"):\n",
    "    positive = y == 1\n",
    "    negative = y == 0\n",
    "    \n",
    "    # Plot examples\n",
    "    plt.plot(X[positive, 0], X[positive, 1], 'k+', label=pos_label)\n",
    "    plt.plot(X[negative, 0], X[negative, 1], 'yo', label=neg_label)\n",
    "    \n",
    "\n",
    "plot_data(X_train, y_train, pos_label=\"Admitted\", neg_label=\"Rejected\")\n",
    "plt.ylabel(\"Exam 2 score\")\n",
    "plt.xlabel(\"Exam 1 score\")\n",
    "plt.legend(loc=\"upper right\")\n",
    "plt.show()"
   ]
  },
  {
   "cell_type": "markdown",
   "id": "34e859d1",
   "metadata": {},
   "source": [
    "### Sigmoid\n",
    "\n",
    "Model:\n",
    "$f_{{\\bf \\vec w}, b}(\\bf \\vec x) = g({\\bf \\vec w \\cdot \\vec x} + b)$\n",
    "\n",
    "Where:\n",
    "$g(z) = \\large \\frac 1 {1 + e^{-z}}$\n"
   ]
  },
  {
   "cell_type": "code",
   "execution_count": 10,
   "id": "b8d47ed6",
   "metadata": {},
   "outputs": [],
   "source": [
    "def sigmoid(z):\n",
    "    return 1 / (1 + np.exp(-z))"
   ]
  },
  {
   "cell_type": "markdown",
   "id": "bf044dd7",
   "metadata": {},
   "source": [
    "### Cost Function\n",
    "Cost:\n",
    "$$\n",
    "J({\\bf \\vec w}, b) = \\frac 1 m \\sum_{i=1}^m \\large [loss(f_{{\\bf \\vec w}, b}({\\bf \\vec x}^{(i)}, y^{(i)}]\n",
    "$$\n",
    "\n",
    "Where the loss function is that unholy long mess."
   ]
  },
  {
   "cell_type": "code",
   "execution_count": 41,
   "id": "4671e131",
   "metadata": {},
   "outputs": [],
   "source": [
    "def compute_cost(X, y, w0, b0, lambda_=1):\n",
    "    m, n = X.shape\n",
    "    z = np.matmul(np.c_[X, np.ones(m)], np.r_[w0, b0])\n",
    "    f_wb = sigmoid(z)\n",
    "    cost = np.sum(-y * np.log(f_wb) - (1 - y) * np.log(1 - f_wb)) / m\n",
    "    reg_cost = (lambda_ / (2 * m)) * np.sum(w ** 2)\n",
    "    return cost + reg_cost"
   ]
  },
  {
   "cell_type": "markdown",
   "id": "3ac774b9",
   "metadata": {},
   "source": [
    "### Gradient for Logistic Regression"
   ]
  },
  {
   "cell_type": "code",
   "execution_count": 39,
   "id": "cfe2e20d",
   "metadata": {},
   "outputs": [],
   "source": [
    "def compute_gradient(X, y, w, b, lambda_=None):\n",
    "    m, n = X.shape\n",
    "    z = np.matmul(np.c_[X, np.ones(m)], np.r_[w, b])\n",
    "    f_wb = sigmoid(z)\n",
    "    err = f_wb - y\n",
    "    dj_db = np.sum(err) / m\n",
    "    dj_dw = np.matmul(np.transpose(err), X) / m\n",
    "    # Reg term\n",
    "    dj_dw += (lambda_ / m) * w\n",
    "    return dj_db, dj_dw"
   ]
  },
  {
   "cell_type": "markdown",
   "id": "80ccc9cb",
   "metadata": {},
   "source": [
    "### Learning Parameters Using Gradient Descent"
   ]
  },
  {
   "cell_type": "code",
   "execution_count": 49,
   "id": "9643b7ca",
   "metadata": {},
   "outputs": [],
   "source": [
    "def gradient_descent(X, y, w, b, cost_function, gradient_function, alpha, num_iters, lambda_):\n",
    "    m = len(X)\n",
    "    J_hist = []\n",
    "    w_hist = []\n",
    "    for i in range(num_iters):\n",
    "        dj_db, dj_dw = gradient_function(X, y, w, b, lambda_)\n",
    "        w -= alpha * dj_dw - (w * lambda_ * alpha / m)\n",
    "        b -= alpha * dj_db\n",
    "        cost = cost_function(X, y, w, b, lambda_)\n",
    "        J_hist.append(cost)\n",
    "        if i % (num_iters // 100) == 0:\n",
    "            w_hist.append(w)\n",
    "            print(f\"Iter {i:5d}:\\t\\tCost: {J_hist[-1]}\")\n",
    "    return w, b, J_hist, w_hist"
   ]
  },
  {
   "cell_type": "code",
   "execution_count": 50,
   "id": "0c5071ba",
   "metadata": {},
   "outputs": [
    {
     "name": "stdout",
     "output_type": "stream",
     "text": [
      "Iter     0:\t\tCost: 0.9637901832137509\n",
      "Iter   100:\t\tCost: 0.30542318082768927\n",
      "Iter   200:\t\tCost: 0.3053860974953493\n",
      "Iter   300:\t\tCost: 0.3053490402383386\n",
      "Iter   400:\t\tCost: 0.30531200757169474\n",
      "Iter   500:\t\tCost: 0.3052749994706856\n",
      "Iter   600:\t\tCost: 0.30523801591061395\n",
      "Iter   700:\t\tCost: 0.3052010568668158\n",
      "Iter   800:\t\tCost: 0.30516412231465984\n",
      "Iter   900:\t\tCost: 0.30512721222954814\n",
      "Iter  1000:\t\tCost: 0.30509032658691554\n",
      "Iter  1100:\t\tCost: 0.30505346536222966\n",
      "Iter  1200:\t\tCost: 0.30501662853099115\n",
      "Iter  1300:\t\tCost: 0.30497981606873337\n",
      "Iter  1400:\t\tCost: 0.30494302795102246\n",
      "Iter  1500:\t\tCost: 0.3049062641534572\n",
      "Iter  1600:\t\tCost: 0.3048695246516688\n",
      "Iter  1700:\t\tCost: 0.30483280942132157\n",
      "Iter  1800:\t\tCost: 0.3047961184381118\n",
      "Iter  1900:\t\tCost: 0.30475945167776836\n",
      "Iter  2000:\t\tCost: 0.30472280911605276\n",
      "Iter  2100:\t\tCost: 0.3046861907287587\n",
      "Iter  2200:\t\tCost: 0.30464959649171197\n",
      "Iter  2300:\t\tCost: 0.3046130263807711\n",
      "Iter  2400:\t\tCost: 0.3045764803718265\n",
      "Iter  2500:\t\tCost: 0.30453995844080084\n",
      "Iter  2600:\t\tCost: 0.3045034605636485\n",
      "Iter  2700:\t\tCost: 0.30446698671635636\n",
      "Iter  2800:\t\tCost: 0.304430536874943\n",
      "Iter  2900:\t\tCost: 0.30439411101545943\n",
      "Iter  3000:\t\tCost: 0.3043577091139877\n",
      "Iter  3100:\t\tCost: 0.3043213311466424\n",
      "Iter  3200:\t\tCost: 0.30428497708956986\n",
      "Iter  3300:\t\tCost: 0.3042486469189473\n",
      "Iter  3400:\t\tCost: 0.3042123406109847\n",
      "Iter  3500:\t\tCost: 0.3041760581419231\n",
      "Iter  3600:\t\tCost: 0.3041397994880352\n",
      "Iter  3700:\t\tCost: 0.30410356462562477\n",
      "Iter  3800:\t\tCost: 0.30406735353102815\n",
      "Iter  3900:\t\tCost: 0.3040311661806116\n",
      "Iter  4000:\t\tCost: 0.3039950025507739\n",
      "Iter  4100:\t\tCost: 0.30395886261794497\n",
      "Iter  4200:\t\tCost: 0.30392274635858546\n",
      "Iter  4300:\t\tCost: 0.30388665374918755\n",
      "Iter  4400:\t\tCost: 0.3038505847662746\n",
      "Iter  4500:\t\tCost: 0.3038145393864015\n",
      "Iter  4600:\t\tCost: 0.303778517586153\n",
      "Iter  4700:\t\tCost: 0.30374251934214597\n",
      "Iter  4800:\t\tCost: 0.3037065446310276\n",
      "Iter  4900:\t\tCost: 0.3036705934294762\n",
      "Iter  5000:\t\tCost: 0.30363466571420106\n",
      "Iter  5100:\t\tCost: 0.30359876146194226\n",
      "Iter  5200:\t\tCost: 0.30356288064947007\n",
      "Iter  5300:\t\tCost: 0.303527023253586\n",
      "Iter  5400:\t\tCost: 0.3034911892511224\n",
      "Iter  5500:\t\tCost: 0.30345537861894156\n",
      "Iter  5600:\t\tCost: 0.30341959133393676\n",
      "Iter  5700:\t\tCost: 0.30338382737303177\n",
      "Iter  5800:\t\tCost: 0.3033480867131804\n",
      "Iter  5900:\t\tCost: 0.3033123693313674\n",
      "Iter  6000:\t\tCost: 0.3032766752046074\n",
      "Iter  6100:\t\tCost: 0.3032410043099456\n",
      "Iter  6200:\t\tCost: 0.3032053566244576\n",
      "Iter  6300:\t\tCost: 0.3031697321252489\n",
      "Iter  6400:\t\tCost: 0.30313413078945506\n",
      "Iter  6500:\t\tCost: 0.3030985525942419\n",
      "Iter  6600:\t\tCost: 0.3030629975168052\n",
      "Iter  6700:\t\tCost: 0.30302746553437115\n",
      "Iter  6800:\t\tCost: 0.30299195662419537\n",
      "Iter  6900:\t\tCost: 0.3029564707635637\n",
      "Iter  7000:\t\tCost: 0.30292100792979165\n",
      "Iter  7100:\t\tCost: 0.3028855681002246\n",
      "Iter  7200:\t\tCost: 0.3028501512522375\n",
      "Iter  7300:\t\tCost: 0.30281475736323543\n",
      "Iter  7400:\t\tCost: 0.30277938641065266\n",
      "Iter  7500:\t\tCost: 0.30274403837195357\n",
      "Iter  7600:\t\tCost: 0.30270871322463155\n",
      "Iter  7700:\t\tCost: 0.3026734109462101\n",
      "Iter  7800:\t\tCost: 0.3026381315142417\n",
      "Iter  7900:\t\tCost: 0.3026028749063085\n",
      "Iter  8000:\t\tCost: 0.3025676411000218\n",
      "Iter  8100:\t\tCost: 0.3025324300730226\n",
      "Iter  8200:\t\tCost: 0.3024972418029808\n",
      "Iter  8300:\t\tCost: 0.30246207626759575\n",
      "Iter  8400:\t\tCost: 0.30242693344459587\n",
      "Iter  8500:\t\tCost: 0.3023918133117387\n",
      "Iter  8600:\t\tCost: 0.30235671584681084\n",
      "Iter  8700:\t\tCost: 0.3023216410276279\n",
      "Iter  8800:\t\tCost: 0.302286588832035\n",
      "Iter  8900:\t\tCost: 0.30225155923790564\n",
      "Iter  9000:\t\tCost: 0.3022165522231424\n",
      "Iter  9100:\t\tCost: 0.30218156776567645\n",
      "Iter  9200:\t\tCost: 0.30214660584346814\n",
      "Iter  9300:\t\tCost: 0.3021116664345065\n",
      "Iter  9400:\t\tCost: 0.302076749516809\n",
      "Iter  9500:\t\tCost: 0.30204185506842207\n",
      "Iter  9600:\t\tCost: 0.3020069830674207\n",
      "Iter  9700:\t\tCost: 0.3019721334919085\n",
      "Iter  9800:\t\tCost: 0.30193730632001753\n",
      "Iter  9900:\t\tCost: 0.3019025015299083\n"
     ]
    }
   ],
   "source": [
    "np.random.seed(1)\n",
    "w_in = 1e-2 * (np.random.rand(2).reshape(-1,) - 0.5)\n",
    "b_in = -8\n",
    "\n",
    "iterations = 10_000\n",
    "alpha = 1e-3\n",
    "w, b, J_hist, _ = gradient_descent(X_train, y_train, w_in, b_in, compute_cost, \n",
    "                                   compute_gradient, alpha, iterations, 0)"
   ]
  },
  {
   "cell_type": "markdown",
   "id": "6c6bb798",
   "metadata": {},
   "source": [
    "Fuck it, entire util file in here"
   ]
  },
  {
   "cell_type": "code",
   "execution_count": 47,
   "id": "6344399f",
   "metadata": {},
   "outputs": [],
   "source": [
    "def map_feature(X1, X2):\n",
    "    \"\"\"\n",
    "    Feature mapping function to polynomial features    \n",
    "    \"\"\"\n",
    "    X1 = np.atleast_1d(X1)\n",
    "    X2 = np.atleast_1d(X2)\n",
    "    degree = 6\n",
    "    out = []\n",
    "    for i in range(1, degree+1):\n",
    "        for j in range(i + 1):\n",
    "            out.append((X1**(i-j) * (X2**j)))\n",
    "    return np.stack(out, axis=1)\n",
    "\n",
    "\n",
    "def plot_data(X, y, pos_label=\"y=1\", neg_label=\"y=0\"):\n",
    "    positive = y == 1\n",
    "    negative = y == 0\n",
    "    \n",
    "    # Plot examples\n",
    "    plt.plot(X[positive, 0], X[positive, 1], 'k+', label=pos_label)\n",
    "    plt.plot(X[negative, 0], X[negative, 1], 'yo', label=neg_label)\n",
    "    \n",
    "    \n",
    "def plot_decision_boundary(w, b, X, y):\n",
    "    # Credit to dibgerge on Github for this plotting code\n",
    "     \n",
    "    plot_data(X[:, 0:2], y)\n",
    "    \n",
    "    if X.shape[1] <= 2:\n",
    "        plot_x = np.array([min(X[:, 0]), max(X[:, 0])])\n",
    "        plot_y = (-1. / w[1]) * (w[0] * plot_x + b)\n",
    "        \n",
    "        plt.plot(plot_x, plot_y, c=\"b\")\n",
    "        \n",
    "    else:\n",
    "        u = np.linspace(-1, 1.5, 50)\n",
    "        v = np.linspace(-1, 1.5, 50)\n",
    "        \n",
    "        z = np.zeros((len(u), len(v)))\n",
    "\n",
    "        # Evaluate z = theta*x over the grid\n",
    "        for i in range(len(u)):\n",
    "            for j in range(len(v)):\n",
    "                z[i,j] = sig(np.dot(map_feature(u[i], v[j]), w) + b)\n",
    "        \n",
    "        # important to transpose z before calling contour       \n",
    "        z = z.T\n",
    "        \n",
    "        # Plot z = 0\n",
    "        plt.contour(u,v,z, levels = [0.5], colors=\"g\")\n",
    "\n",
    "        \n",
    "        "
   ]
  },
  {
   "cell_type": "code",
   "execution_count": 48,
   "id": "c25ec1bc",
   "metadata": {},
   "outputs": [
    {
     "data": {
      "image/png": "[encoded data removed]",
      "text/plain": [
       "<Figure size 432x288 with 1 Axes>"
      ]
     },
     "metadata": {
      "needs_background": "light"
     },
     "output_type": "display_data"
    }
   ],
   "source": [
    "plot_decision_boundary(w, b, X_train, y_train)"
   ]
  },
  {
   "cell_type": "markdown",
   "id": "f8839f28",
   "metadata": {},
   "source": [
    "### Evaluation\n",
    "Predict and compare!"
   ]
  },
  {
   "cell_type": "code",
   "execution_count": 56,
   "id": "d3d90dfc",
   "metadata": {},
   "outputs": [],
   "source": [
    "def predict(X, w, b):\n",
    "    m = X.shape[0]\n",
    "    z = np.matmul(\n",
    "        np.c_[X, np.ones(m)],\n",
    "        np.r_[w, b]\n",
    "    )\n",
    "    f_wb = sigmoid(z)\n",
    "    p = f_wb >= 0.5\n",
    "    return p"
   ]
  },
  {
   "cell_type": "markdown",
   "id": "ab6ebef4",
   "metadata": {},
   "source": [
    "## Part 2 - Determine Microchip Quality\n",
    "Pass or fail based on the test results in X\n",
    "### Loading and Visualizing"
   ]
  },
  {
   "cell_type": "code",
   "execution_count": 57,
   "id": "72b1a21e",
   "metadata": {},
   "outputs": [
    {
     "name": "stdout",
     "output_type": "stream",
     "text": [
      "Shape: (118, 2)\n",
      "Sample: [[ 0.051267  0.69956 ]\n",
      " [-0.092742  0.68494 ]\n",
      " [-0.21371   0.69225 ]\n",
      " [-0.375     0.50219 ]\n",
      " [-0.51325   0.46564 ]]\n"
     ]
    },
    {
     "data": {
      "image/png": "[encoded data removed]",
      "text/plain": [
       "<Figure size 432x288 with 1 Axes>"
      ]
     },
     "metadata": {
      "needs_background": "light"
     },
     "output_type": "display_data"
    }
   ],
   "source": [
    "X_train, y_train = load_data('data/ex2data2.txt')\n",
    "print(f\"Shape: {X_train.shape}\")\n",
    "print(f\"Sample: {X_train[:5]}\")\n",
    "plot_data(X_train, y_train[:], pos_label=\"Accepted\", neg_label=\"Rejected\")\n",
    "plt.ylabel(\"Microchip Test 2\")\n",
    "plt.xlabel(\"Microchip Test 1\")\n",
    "plt.legend(loc=\"upper right\")\n",
    "plt.show()"
   ]
  },
  {
   "cell_type": "markdown",
   "id": "4e04f543",
   "metadata": {},
   "source": [
    "### Feature Mapping\n",
    "\n",
    "Looks like we can't easily separate the examples using a straight line.\n",
    "We need to feature-map - without intuition, all polynomial terms of x1, x2 up to the...\n",
    "6th power?? It's a circle, 2 should do it, surely?\n",
    "\n",
    "Welp.\n",
    "2-d feature array into 27-d, just like that."
   ]
  },
  {
   "cell_type": "code",
   "execution_count": 59,
   "id": "81de6e51",
   "metadata": {},
   "outputs": [
    {
     "name": "stdout",
     "output_type": "stream",
     "text": [
      "New shape: (118, 27)\n",
      "\n",
      "Sample: [5.12670000e-02 6.99560000e-01 2.62830529e-03 3.58643425e-02\n",
      " 4.89384194e-01 1.34745327e-04 1.83865725e-03 2.50892595e-02\n",
      " 3.42353606e-01 6.90798869e-06 9.42624411e-05 1.28625106e-03\n",
      " 1.75514423e-02 2.39496889e-01 3.54151856e-07 4.83255257e-06\n",
      " 6.59422333e-05 8.99809795e-04 1.22782870e-02 1.67542444e-01\n",
      " 1.81563032e-08 2.47750473e-07 3.38066048e-06 4.61305487e-05\n",
      " 6.29470940e-04 8.58939846e-03 1.17205992e-01]\n"
     ]
    }
   ],
   "source": [
    "mapped_X = map_feature(X_train[:, 0], X_train[:, 1])\n",
    "print(f\"New shape: {mapped_X.shape}\")\n",
    "print(f\"\\nSample: {mapped_X[0]}\")"
   ]
  },
  {
   "cell_type": "markdown",
   "id": "980a6519",
   "metadata": {},
   "source": [
    "### Regularizing it all\n",
    "Neat. Susceptible to overfitting though, look at those value ranges.\n",
    "Alas, we're only using regularization here, not scaling, so..."
   ]
  },
  {
   "cell_type": "code",
   "execution_count": 60,
   "id": "7725f3ab",
   "metadata": {},
   "outputs": [],
   "source": [
    "def compute_cost_reg(X, y, w, b, lambda_=1):\n",
    "    m = X.shape[0]\n",
    "    cost = compute_cost(X, y, w, b, lambda_)\n",
    "    cost_reg = np.sum(w ** 2)\n",
    "    return cost + (lambda_ / (2 * m)) * cost_reg"
   ]
  },
  {
   "cell_type": "code",
   "execution_count": 61,
   "id": "a7761bcc",
   "metadata": {},
   "outputs": [],
   "source": [
    "def compute_gradient_reg(X, y, w, b, lambda_=1):\n",
    "    m = X.shape[0]\n",
    "    dj_dw_reg = (lambda_ * w) / m\n",
    "    dj_db, dj_dw = compute_gradient(X, y, w, b, lambda_)\n",
    "    return dj_db, dj_dw + dj_dw_reg"
   ]
  },
  {
   "cell_type": "code",
   "execution_count": null,
   "id": "0a880afa",
   "metadata": {},
   "outputs": [],
   "source": []
  }
 ],
 "metadata": {
  "kernelspec": {
   "display_name": "Python 3 (ipykernel)",
   "language": "python",
   "name": "python3"
  },
  "language_info": {
   "codemirror_mode": {
    "name": "ipython",
    "version": 3
   },
   "file_extension": ".py",
   "mimetype": "text/x-python",
   "name": "python",
   "nbconvert_exporter": "python",
   "pygments_lexer": "ipython3",
   "version": "3.9.7"
  }
 },
 "nbformat": 4,
 "nbformat_minor": 5
}
